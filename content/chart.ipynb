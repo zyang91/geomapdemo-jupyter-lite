{
 "cells": [
  {
   "cell_type": "code",
   "execution_count": null,
   "id": "790e4d82",
   "metadata": {},
   "outputs": [],
   "source": [
    "import geomapdemo.chart as geomapdemo"
   ]
  },
  {
   "cell_type": "code",
   "execution_count": null,
   "id": "bbf3f13b",
   "metadata": {},
   "outputs": [],
   "source": [
    "data='data/titanic.csv'"
   ]
  },
  {
   "cell_type": "code",
   "execution_count": null,
   "id": "483acd84",
   "metadata": {},
   "outputs": [],
   "source": [
    "geomapdemo.single_box_plot(data=data, variable='age', color='red')"
   ]
  },
  {
   "cell_type": "code",
   "execution_count": null,
   "id": "7127c91d",
   "metadata": {},
   "outputs": [],
   "source": [
    "geomapdemo.box_plot(data=data, x='age', y='class')"
   ]
  },
  {
   "cell_type": "code",
   "execution_count": null,
   "id": "a99633ba",
   "metadata": {},
   "outputs": [],
   "source": [
    "geomapdemo.single_violin(data=data, variable='age')"
   ]
  },
  {
   "cell_type": "code",
   "execution_count": null,
   "id": "2e7a39b0",
   "metadata": {},
   "outputs": [],
   "source": [
    "geomapdemo.violin_spilt(data=data, x= 'deck', y= 'age', hue= 'alive')"
   ]
  },
  {
   "cell_type": "code",
   "execution_count": null,
   "id": "660149e8",
   "metadata": {},
   "outputs": [],
   "source": [
    "geomapdemo.violin_plot(data=data, x= 'deck', y= 'age', hue= 'alive')"
   ]
  },
  {
   "cell_type": "code",
   "execution_count": null,
   "id": "1cb74524",
   "metadata": {},
   "outputs": [],
   "source": [
    "geomapdemo.scatter_plot(data=data, x=\"age\", y=\"class\")"
   ]
  },
  {
   "cell_type": "code",
   "execution_count": null,
   "id": "65df34f4",
   "metadata": {},
   "outputs": [],
   "source": []
  },
  {
   "cell_type": "code",
   "execution_count": null,
   "id": "8490a0a4",
   "metadata": {},
   "outputs": [],
   "source": []
  }
 ],
 "metadata": {
  "kernelspec": {
   "display_name": "Python 3 (ipykernel)",
   "language": "python",
   "name": "python3"
  },
  "language_info": {
   "codemirror_mode": {
    "name": "ipython",
    "version": 3
   },
   "file_extension": ".py",
   "mimetype": "text/x-python",
   "name": "python",
   "nbconvert_exporter": "python",
   "pygments_lexer": "ipython3",
   "version": "3.9.16"
  }
 },
 "nbformat": 4,
 "nbformat_minor": 5
}
